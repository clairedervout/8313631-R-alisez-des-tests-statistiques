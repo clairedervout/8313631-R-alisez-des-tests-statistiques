{
  "nbformat": 4,
  "nbformat_minor": 0,
  "metadata": {
    "colab": {
      "provenance": []
    },
    "kernelspec": {
      "name": "python3",
      "display_name": "Python 3"
    },
    "language_info": {
      "name": "python"
    }
  },
  "cells": [
    {
      "cell_type": "code",
      "execution_count": null,
      "metadata": {
        "id": "6EFyYSAeUDM9"
      },
      "outputs": [],
      "source": [
        "import numpy as np\n",
        "import matplotlib.pyplot as plt\n",
        "import pandas as pd\n",
        "from scipy.stats import norm"
      ]
    },
    {
      "cell_type": "markdown",
      "source": [
        "# Chargement"
      ],
      "metadata": {
        "id": "9A2U8PiQUJwM"
      }
    },
    {
      "cell_type": "code",
      "source": [
        "# Charger les données depuis le fichier CSV\n",
        "file_path = '/content/Données clients - Feuille 1_nettoyées.csv'\n",
        "data = pd.read_csv(file_path)"
      ],
      "metadata": {
        "id": "Nn57CUr6ULMt"
      },
      "execution_count": null,
      "outputs": []
    },
    {
      "cell_type": "markdown",
      "source": [
        "# Distribution de la durée des voyages"
      ],
      "metadata": {
        "id": "s6fLXPq5UVMT"
      }
    },
    {
      "cell_type": "code",
      "source": [
        "# Extraire la colonne 'budget_voyage_annuel'\n",
        "durees = data['durée de voyage (en jours)'].dropna()\n",
        "\n",
        "plt.figure(figsize=(10, 6))\n",
        "plt.hist(durees, bins=10, density=True, color='skyblue', edgecolor='black', alpha=0.6)\n",
        "\n",
        "mu, std = norm.fit(durees)\n",
        "xmin, xmax = plt.xlim()\n",
        "x = np.linspace(xmin, xmax, len(durees))\n",
        "p = norm.pdf(x, mu, std)\n",
        "\n",
        "plt.plot(x, p, 'k', linewidth=2, label=\"Ajustement gaussien\")\n",
        "\n",
        "plt.legend()\n",
        "\n",
        "plt.title('Distribution du durées de voyage')\n",
        "plt.xlabel('Durées')\n",
        "plt.ylabel('Densité de clients')\n",
        "plt.grid(axis='y', alpha=0.75)"
      ],
      "metadata": {
        "id": "nFrBtyNJUeTl"
      },
      "execution_count": null,
      "outputs": []
    },
    {
      "cell_type": "markdown",
      "source": [
        "# Test de normalité"
      ],
      "metadata": {
        "id": "wAVMDZiXUyKl"
      }
    },
    {
      "cell_type": "code",
      "source": [
        "from scipy.stats import shapiro\n",
        "\n",
        "# Effectuer le test de Shapiro-Wilk\n",
        "stat, p_value = shapiro(durees)\n",
        "\n",
        "# Afficher les résultats\n",
        "print(\"Taille de mon échantillon:\", len(durees))\n",
        "print(f\"Statistique du test de Shapiro-Wilk : {stat}\")\n",
        "print(f\"Valeur p : {p_value}\")\n",
        "\n",
        "# Interprétation des résultats\n",
        "alpha = 0.05\n",
        "if p_value > alpha:\n",
        "    print(\"Les données suivent une distribution normale (on ne rejette pas H0)\")\n",
        "else:\n",
        "    print(\"Les données ne suivent pas une distribution normale (on rejette H0)\")"
      ],
      "metadata": {
        "id": "7TVtK-wNUzQW"
      },
      "execution_count": null,
      "outputs": []
    }
  ]
}